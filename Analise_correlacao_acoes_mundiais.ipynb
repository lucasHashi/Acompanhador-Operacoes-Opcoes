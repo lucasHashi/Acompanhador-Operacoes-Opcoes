{
  "nbformat": 4,
  "nbformat_minor": 0,
  "metadata": {
    "colab": {
      "name": "Analise_correlacao_acoes_mundiais.ipynb",
      "provenance": [],
      "toc_visible": true,
      "authorship_tag": "ABX9TyP7URv50QJRGaPSP3R3EkA7",
      "include_colab_link": true
    },
    "kernelspec": {
      "name": "python3",
      "display_name": "Python 3"
    }
  },
  "cells": [
    {
      "cell_type": "markdown",
      "metadata": {
        "id": "view-in-github",
        "colab_type": "text"
      },
      "source": [
        "<a href=\"https://colab.research.google.com/github/lucasHashi/Acompanhador-Operacoes-Opcoes/blob/master/Analise_correlacao_acoes_mundiais.ipynb\" target=\"_parent\"><img src=\"https://colab.research.google.com/assets/colab-badge.svg\" alt=\"Open In Colab\"/></a>"
      ]
    },
    {
      "cell_type": "markdown",
      "metadata": {
        "id": "Lsmxc7CW3yEb",
        "colab_type": "text"
      },
      "source": [
        "# Analise da correlação entre ativos\n"
      ]
    },
    {
      "cell_type": "code",
      "metadata": {
        "id": "N1XuebHUVuwk",
        "colab_type": "code",
        "colab": {}
      },
      "source": [
        "import pandas as pd"
      ],
      "execution_count": 1,
      "outputs": []
    },
    {
      "cell_type": "markdown",
      "metadata": {
        "id": "8VbMrWL5tcZy",
        "colab_type": "text"
      },
      "source": [
        "## Opções para o usuario escolher"
      ]
    },
    {
      "cell_type": "code",
      "metadata": {
        "id": "LPIWo1DiVUhw",
        "colab_type": "code",
        "colab": {}
      },
      "source": [
        "ARQUIVO_TICKERS = 'dados_tickers_2020-08-22.pickle'"
      ],
      "execution_count": 2,
      "outputs": []
    },
    {
      "cell_type": "code",
      "metadata": {
        "id": "mc_Z-SPGVr6l",
        "colab_type": "code",
        "colab": {}
      },
      "source": [
        "df_tickers = pd.read_pickle(ARQUIVO_TICKERS)"
      ],
      "execution_count": 4,
      "outputs": []
    },
    {
      "cell_type": "markdown",
      "metadata": {
        "id": "UesLrFffWNyU",
        "colab_type": "text"
      },
      "source": [
        "### Bolsas disponiveis"
      ]
    },
    {
      "cell_type": "code",
      "metadata": {
        "id": "iNvlIe6vVr9M",
        "colab_type": "code",
        "colab": {
          "base_uri": "https://localhost:8080/",
          "height": 34
        },
        "outputId": "9910c331-8d0e-4e5f-9569-f4e4e3a3acd2"
      },
      "source": [
        "bolsas_disponiveis = list(df_tickers['stock_exchange'].unique())\n",
        "bolsas_disponiveis"
      ],
      "execution_count": 7,
      "outputs": [
        {
          "output_type": "execute_result",
          "data": {
            "text/plain": [
              "['BVMF', 'XNAS', 'XNYS', 'XTSE', 'XHKG', 'XSHG', 'XLON', 'XPAR', 'XBRU']"
            ]
          },
          "metadata": {
            "tags": []
          },
          "execution_count": 7
        }
      ]
    },
    {
      "cell_type": "markdown",
      "metadata": {
        "id": "KdMj6RmlWQYL",
        "colab_type": "text"
      },
      "source": [
        "#### Escolha simulada - Bolsas"
      ]
    },
    {
      "cell_type": "code",
      "metadata": {
        "id": "Bd3kYvB5VsBH",
        "colab_type": "code",
        "colab": {}
      },
      "source": [
        "bolsa_1 = 'BVMF'\n",
        "\n",
        "bolsa_2 = 'XNAS'"
      ],
      "execution_count": 9,
      "outputs": []
    },
    {
      "cell_type": "markdown",
      "metadata": {
        "id": "5yFLEThYWbtK",
        "colab_type": "text"
      },
      "source": [
        "### Ativos disponiveis"
      ]
    },
    {
      "cell_type": "markdown",
      "metadata": {
        "id": "0xPWfjFeWecD",
        "colab_type": "text"
      },
      "source": [
        "#### Opções bolsa_1"
      ]
    },
    {
      "cell_type": "code",
      "metadata": {
        "id": "mK8MuuM9WnXs",
        "colab_type": "code",
        "colab": {
          "base_uri": "https://localhost:8080/",
          "height": 187
        },
        "outputId": "fa0ccf4a-e99f-4e57-f8a3-b666475c2e55"
      },
      "source": [
        "bolsas_disponiveis_1 = list(df_tickers[df_tickers['stock_exchange'] == bolsa_1]['name'].map(str) + ' - ' + df_tickers[df_tickers['stock_exchange'] == bolsa_1]['symbol'])\n",
        "bolsas_disponiveis_1[:10]"
      ],
      "execution_count": 15,
      "outputs": [
        {
          "output_type": "execute_result",
          "data": {
            "text/plain": [
              "['MICROSOFT DRN - MSFT34.BVMF',\n",
              " 'APPLE DRN - AAPL34.BVMF',\n",
              " 'ALPHABET DRN C - GOGL35.BVMF',\n",
              " 'ALIBABAGR DRN - BABA34.BVMF',\n",
              " 'FACEBOOK DRN - FBOK34.BVMF',\n",
              " 'AMAZON DRN - AMZO34.BVMF',\n",
              " 'VISA INC DRN - VISA34.BVMF',\n",
              " 'ALPHABET DRN A - GOGL34.BVMF',\n",
              " 'JOHNSON DRN - JNJB34.BVMF',\n",
              " 'WAL MART DRN - WALM34.BVMF']"
            ]
          },
          "metadata": {
            "tags": []
          },
          "execution_count": 15
        }
      ]
    },
    {
      "cell_type": "markdown",
      "metadata": {
        "id": "db-cIMBZXvtS",
        "colab_type": "text"
      },
      "source": [
        "##### Escolha simulada - Ativo 1"
      ]
    },
    {
      "cell_type": "code",
      "metadata": {
        "id": "mW8MR5gWXtfS",
        "colab_type": "code",
        "colab": {}
      },
      "source": [
        "ativo_1 = 'LAME4.BVMF'"
      ],
      "execution_count": 23,
      "outputs": []
    },
    {
      "cell_type": "markdown",
      "metadata": {
        "colab_type": "text",
        "id": "VlAqrGYnWkXB"
      },
      "source": [
        "#### Opções bolsa_2"
      ]
    },
    {
      "cell_type": "code",
      "metadata": {
        "id": "N3kep_qiVr_l",
        "colab_type": "code",
        "colab": {
          "base_uri": "https://localhost:8080/",
          "height": 187
        },
        "outputId": "eed5ae46-7be5-4bea-bcef-06548655ec43"
      },
      "source": [
        "bolsas_disponiveis_2 = list(df_tickers[df_tickers['stock_exchange'] == bolsa_2]['name'].map(str) + ' - ' + df_tickers[df_tickers['stock_exchange'] == bolsa_2]['symbol'])\n",
        "bolsas_disponiveis_2[:10]"
      ],
      "execution_count": 20,
      "outputs": [
        {
          "output_type": "execute_result",
          "data": {
            "text/plain": [
              "['Microsoft Corp - MSFT',\n",
              " 'Apple Inc - AAPL',\n",
              " 'Amazoncom Inc - AMZN',\n",
              " 'Alphabet Inc Class C - GOOG',\n",
              " 'Alphabet Inc Class A - GOOGL',\n",
              " 'Facebook Inc - FB',\n",
              " 'Vodafone Group Public Limited Company - VOD',\n",
              " 'Intel Corp - INTC',\n",
              " 'Comcast Corp - CMCSA',\n",
              " 'PepsiCo Inc - PEP']"
            ]
          },
          "metadata": {
            "tags": []
          },
          "execution_count": 20
        }
      ]
    },
    {
      "cell_type": "markdown",
      "metadata": {
        "id": "W3m5-0HsX1EA",
        "colab_type": "text"
      },
      "source": [
        "##### Escolha simulada - Ativo 2"
      ]
    },
    {
      "cell_type": "code",
      "metadata": {
        "id": "c9UmmhtIX2DQ",
        "colab_type": "code",
        "colab": {}
      },
      "source": [
        "ativo_2 = 'BKNG'"
      ],
      "execution_count": 22,
      "outputs": []
    },
    {
      "cell_type": "markdown",
      "metadata": {
        "id": "c2SoOTtc1te0",
        "colab_type": "text"
      },
      "source": [
        "## Entrada de dados do usuario"
      ]
    },
    {
      "cell_type": "code",
      "metadata": {
        "id": "BHcdsICHtWxS",
        "colab_type": "code",
        "colab": {}
      },
      "source": [
        "def puxar_dados_acao(ticker, limite):\n",
        "    URL_BASE_MARKETSTACK = 'http://api.marketstack.com/v1/eod'\n",
        "    API_KEY_MARKETSTACK = '835b9955e675617cfb8e71ca455f26f9'\n",
        "\n",
        "    parametros = {'access_key': API_KEY_MARKETSTACK, 'symbols': ticker, 'limit': LIMITE}\n",
        "    resposta = requests.get(URL_BASE_MARKETSTACK, params=parametros)\n",
        "    dados_diarios = resposta.json()['data']\n",
        "    return pd.DataFrame(dados_diarios).copy()"
      ],
      "execution_count": null,
      "outputs": []
    },
    {
      "cell_type": "markdown",
      "metadata": {
        "id": "YwY2M_LR3eO7",
        "colab_type": "text"
      },
      "source": [
        "## Calculo das correlações e graficos"
      ]
    },
    {
      "cell_type": "markdown",
      "metadata": {
        "id": "gof4QoQftwQK",
        "colab_type": "text"
      },
      "source": [
        "### Limpeza e puxando os dados"
      ]
    },
    {
      "cell_type": "code",
      "metadata": {
        "id": "4TwSIv4Ut-Kv",
        "colab_type": "code",
        "colab": {}
      },
      "source": [
        ""
      ],
      "execution_count": null,
      "outputs": []
    },
    {
      "cell_type": "markdown",
      "metadata": {
        "id": "_HSyBtlHtzX4",
        "colab_type": "text"
      },
      "source": [
        "### Calculando correlações"
      ]
    },
    {
      "cell_type": "code",
      "metadata": {
        "id": "_oaZqvdzt9eI",
        "colab_type": "code",
        "colab": {}
      },
      "source": [
        ""
      ],
      "execution_count": null,
      "outputs": []
    },
    {
      "cell_type": "markdown",
      "metadata": {
        "id": "ndgbUb4bt5Fh",
        "colab_type": "text"
      },
      "source": [
        "### Graficos"
      ]
    },
    {
      "cell_type": "code",
      "metadata": {
        "id": "y6HsYtrBt8-i",
        "colab_type": "code",
        "colab": {}
      },
      "source": [
        ""
      ],
      "execution_count": null,
      "outputs": []
    }
  ]
}